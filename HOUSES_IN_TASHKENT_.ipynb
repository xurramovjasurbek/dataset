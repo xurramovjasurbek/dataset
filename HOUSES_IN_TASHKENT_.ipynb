{
  "nbformat": 4,
  "nbformat_minor": 0,
  "metadata": {
    "colab": {
      "name": "HOUSES IN TASHKENT  .ipynb",
      "private_outputs": true,
      "provenance": [],
      "authorship_tag": "ABX9TyN8KBxAqqKDrnn2iE6teLqJ",
      "include_colab_link": true
    },
    "kernelspec": {
      "name": "python3",
      "display_name": "Python 3"
    },
    "language_info": {
      "name": "python"
    }
  },
  "cells": [
    {
      "cell_type": "markdown",
      "metadata": {
        "id": "view-in-github",
        "colab_type": "text"
      },
      "source": [
        "<a href=\"https://colab.research.google.com/github/xurramovjasurbek/dataset/blob/main/HOUSES_IN_TASHKENT_.ipynb\" target=\"_parent\"><img src=\"https://colab.research.google.com/assets/colab-badge.svg\" alt=\"Open In Colab\"/></a>"
      ]
    },
    {
      "cell_type": "code",
      "execution_count": null,
      "metadata": {
        "id": "DauoR2ZTpN7L"
      },
      "outputs": [],
      "source": [
        "import pandas as pd\n",
        "import numpy as  np\n",
        "import seaborn as sns\n",
        "import matplotlib.pyplot as plt\n"
      ]
    },
    {
      "cell_type": "code",
      "source": [
        "df=pd.read_excel(\"/content/uybor.xlsx\")\n",
        "df.head()\n"
      ],
      "metadata": {
        "id": "FMI9-uhmpYpt"
      },
      "execution_count": null,
      "outputs": []
    },
    {
      "cell_type": "code",
      "source": [
        "df.info()"
      ],
      "metadata": {
        "id": "MQKtdcwCsF65"
      },
      "execution_count": null,
      "outputs": []
    },
    {
      "cell_type": "code",
      "source": [
        "df.corr()"
      ],
      "metadata": {
        "id": "5A3tXnJtrCLK"
      },
      "execution_count": null,
      "outputs": []
    },
    {
      "cell_type": "code",
      "source": [
        "plt.figure(figsize=(12,8))\n",
        "sns.heatmap(data=df.corr(),linewidths=1)\n",
        "plt.show()"
      ],
      "metadata": {
        "id": "OWM8nqMmrbyl"
      },
      "execution_count": null,
      "outputs": []
    },
    {
      "cell_type": "code",
      "source": [
        "plt.figure(figsize=(12,10))\n",
        "sns.histplot(data=df[\"size\"])\n",
        "plt.show()"
      ],
      "metadata": {
        "id": "N31Axl-Ukjtn"
      },
      "execution_count": null,
      "outputs": []
    },
    {
      "cell_type": "code",
      "source": [
        "plt.figure(figsize=(12,8))\n",
        "sns.scatterplot(data=df[df[\"price\"]!=800000],x=\"price\",y=\"size\")\n",
        "plt.show()"
      ],
      "metadata": {
        "id": "rqteYJvogzH1"
      },
      "execution_count": null,
      "outputs": []
    },
    {
      "cell_type": "code",
      "source": [
        "plt.figure(figsize=(12,8))\n",
        "sns.scatterplot(data=df[df[\"price\"]!=800000],x=\"price\",y=\"size\",hue=\"rooms\")\n",
        "plt.title(\"prices of houses in Tashkent \")\n",
        "plt.show()"
      ],
      "metadata": {
        "id": "BFKwEWScjV-I"
      },
      "execution_count": null,
      "outputs": []
    },
    {
      "cell_type": "code",
      "source": [
        "plt.figure(figsize=(12,10))\n",
        "sns.scatterplot(data=df[df[\"rooms\"].isin([2,4,6])],x=\"price\",y=\"size\")\n",
        "plt.grid(which=\"minor\")\n",
        "plt.minorticks_on()\n",
        "plt.title(\"Price of 2,4,6 rooms \")\n",
        "plt.show()"
      ],
      "metadata": {
        "id": "nmmRY2bKlo8r"
      },
      "execution_count": null,
      "outputs": []
    },
    {
      "cell_type": "code",
      "source": [
        "\n"
      ],
      "metadata": {
        "id": "qG2_SAJZpX0v"
      },
      "execution_count": null,
      "outputs": []
    }
  ]
}